{
 "cells": [
  {
   "cell_type": "code",
   "execution_count": 27,
   "metadata": {
    "tags": []
   },
   "outputs": [
    {
     "name": "stdout",
     "output_type": "stream",
     "text": [
      "Requirement already satisfied: nltk in /opt/conda/lib/python3.10/site-packages (3.8.1)\n",
      "Requirement already satisfied: scikit-learn in /opt/conda/lib/python3.10/site-packages (1.4.2)\n",
      "Requirement already satisfied: textblob in /opt/conda/lib/python3.10/site-packages (0.18.0.post0)\n",
      "Collecting matplotlib-venn\n",
      "  Downloading matplotlib_venn-0.11.10-py3-none-any.whl.metadata (6.4 kB)\n",
      "Requirement already satisfied: click in /opt/conda/lib/python3.10/site-packages (from nltk) (8.1.7)\n",
      "Requirement already satisfied: joblib in /opt/conda/lib/python3.10/site-packages (from nltk) (1.4.0)\n",
      "Requirement already satisfied: regex>=2021.8.3 in /opt/conda/lib/python3.10/site-packages (from nltk) (2024.5.10)\n",
      "Requirement already satisfied: tqdm in /opt/conda/lib/python3.10/site-packages (from nltk) (4.66.2)\n",
      "Requirement already satisfied: numpy>=1.19.5 in /opt/conda/lib/python3.10/site-packages (from scikit-learn) (1.26.4)\n",
      "Requirement already satisfied: scipy>=1.6.0 in /opt/conda/lib/python3.10/site-packages (from scikit-learn) (1.11.4)\n",
      "Requirement already satisfied: threadpoolctl>=2.0.0 in /opt/conda/lib/python3.10/site-packages (from scikit-learn) (3.5.0)\n",
      "Requirement already satisfied: matplotlib in /opt/conda/lib/python3.10/site-packages (from matplotlib-venn) (3.8.4)\n",
      "Requirement already satisfied: contourpy>=1.0.1 in /opt/conda/lib/python3.10/site-packages (from matplotlib->matplotlib-venn) (1.2.1)\n",
      "Requirement already satisfied: cycler>=0.10 in /opt/conda/lib/python3.10/site-packages (from matplotlib->matplotlib-venn) (0.12.1)\n",
      "Requirement already satisfied: fonttools>=4.22.0 in /opt/conda/lib/python3.10/site-packages (from matplotlib->matplotlib-venn) (4.51.0)\n",
      "Requirement already satisfied: kiwisolver>=1.3.1 in /opt/conda/lib/python3.10/site-packages (from matplotlib->matplotlib-venn) (1.4.5)\n",
      "Requirement already satisfied: packaging>=20.0 in /opt/conda/lib/python3.10/site-packages (from matplotlib->matplotlib-venn) (24.0)\n",
      "Requirement already satisfied: pillow>=8 in /opt/conda/lib/python3.10/site-packages (from matplotlib->matplotlib-venn) (10.3.0)\n",
      "Requirement already satisfied: pyparsing>=2.3.1 in /opt/conda/lib/python3.10/site-packages (from matplotlib->matplotlib-venn) (3.1.2)\n",
      "Requirement already satisfied: python-dateutil>=2.7 in /opt/conda/lib/python3.10/site-packages (from matplotlib->matplotlib-venn) (2.9.0)\n",
      "Requirement already satisfied: six>=1.5 in /opt/conda/lib/python3.10/site-packages (from python-dateutil>=2.7->matplotlib->matplotlib-venn) (1.16.0)\n",
      "Downloading matplotlib_venn-0.11.10-py3-none-any.whl (33 kB)\n",
      "Installing collected packages: matplotlib-venn\n",
      "Successfully installed matplotlib-venn-0.11.10\n"
     ]
    }
   ],
   "source": [
    "!pip install nltk scikit-learn textblob matplotlib-venn"
   ]
  },
  {
   "cell_type": "code",
   "execution_count": 2,
   "metadata": {
    "tags": []
   },
   "outputs": [],
   "source": [
    "import pandas as pd\n",
    "import matplotlib.pyplot as plt\n",
    "from nltk.tokenize import word_tokenize\n",
    "from nltk.corpus import stopwords\n",
    "from nltk.stem import PorterStemmer\n",
    "from sklearn.feature_extraction.text import CountVectorizer\n",
    "from sklearn.metrics.pairwise import cosine_similarity\n",
    "from sklearn.decomposition import LatentDirichletAllocation\n",
    "from textblob import TextBlob\n",
    "import nltk"
   ]
  },
  {
   "cell_type": "code",
   "execution_count": 3,
   "metadata": {
    "tags": []
   },
   "outputs": [
    {
     "name": "stdout",
     "output_type": "stream",
     "text": [
      "  1. **What should I do if I'm uncomfortable sharing my full credit card number over the phone?**  \\\n",
      "0  2. **My credit card payment was declined due t...                                                \n",
      "1  3. **How can I resolve a credit card payment d...                                                \n",
      "2  4. **What happens after I report a payment dec...                                                \n",
      "3  5. **How long does it take to resolve a credit...                                                \n",
      "4  6. **Can a payment be declined for reasons oth...                                                \n",
      "\n",
      "  A: For security reasons, if you're uncomfortable sharing your full credit card number over the phone, you can request alternative verification methods from the customer service representative. Many companies allow verification with just the last four digits of your card and additional personal information, such as your billing address or the answer to a security question. This minimizes the risk of your full card details being intercepted during the conversation.  \n",
      "0  A: First, verify your account balance through ...                                                                                                                                                                                                                                                                                                                                                                                                                                   \n",
      "1  A: Resolving a credit card decline involves id...                                                                                                                                                                                                                                                                                                                                                                                                                                   \n",
      "2  A: After reporting a payment decline, the cust...                                                                                                                                                                                                                                                                                                                                                                                                                                   \n",
      "3  A: The resolution time for a credit card payme...                                                                                                                                                                                                                                                                                                                                                                                                                                   \n",
      "4  A: Yes, payments can be declined for several r...                                                                                                                                                                                                                                                                                                                                                                                                                                   \n"
     ]
    }
   ],
   "source": [
    "import pandas as pd\n",
    "from google.cloud import storage\n",
    "import io \n",
    "\n",
    "# Set your GCP bucket and file path\n",
    "bucket_name = 'faq_buck'\n",
    "file_name = 'FAQ_Folder/FAQ_assist_final_utf8.csv'\n",
    "\n",
    "# Authenticate with GCP (if necessary)\n",
    "# If you're already authenticated in your Workbench environment, you might skip this step\n",
    "\n",
    "# Access the GCP storage client\n",
    "storage_client = storage.Client()\n",
    "\n",
    "# Access the bucket\n",
    "bucket = storage_client.bucket(bucket_name)\n",
    "\n",
    "# Access the blob (file) within the bucket\n",
    "blob = bucket.blob(file_name)\n",
    "\n",
    "# Download the blob's content as a string\n",
    "data = blob.download_as_string()\n",
    "\n",
    "# Convert the string content to a Pandas DataFrame\n",
    "df = pd.read_csv(io.BytesIO(data))\n",
    "\n",
    "# Now you can work with your DataFrame (df) as needed\n",
    "print(df.head())  # Display the first few rows of the DataFrame\n"
   ]
  },
  {
   "cell_type": "code",
   "execution_count": 4,
   "metadata": {
    "tags": []
   },
   "outputs": [],
   "source": [
    "df.columns = [\"Question\", \"Answer\"]"
   ]
  },
  {
   "cell_type": "code",
   "execution_count": 5,
   "metadata": {
    "tags": []
   },
   "outputs": [
    {
     "data": {
      "text/html": [
       "<div>\n",
       "<style scoped>\n",
       "    .dataframe tbody tr th:only-of-type {\n",
       "        vertical-align: middle;\n",
       "    }\n",
       "\n",
       "    .dataframe tbody tr th {\n",
       "        vertical-align: top;\n",
       "    }\n",
       "\n",
       "    .dataframe thead th {\n",
       "        text-align: right;\n",
       "    }\n",
       "</style>\n",
       "<table border=\"1\" class=\"dataframe\">\n",
       "  <thead>\n",
       "    <tr style=\"text-align: right;\">\n",
       "      <th></th>\n",
       "      <th>Question</th>\n",
       "      <th>Answer</th>\n",
       "    </tr>\n",
       "  </thead>\n",
       "  <tbody>\n",
       "    <tr>\n",
       "      <th>0</th>\n",
       "      <td>2. **My credit card payment was declined due t...</td>\n",
       "      <td>A: First, verify your account balance through ...</td>\n",
       "    </tr>\n",
       "    <tr>\n",
       "      <th>1</th>\n",
       "      <td>3. **How can I resolve a credit card payment d...</td>\n",
       "      <td>A: Resolving a credit card decline involves id...</td>\n",
       "    </tr>\n",
       "    <tr>\n",
       "      <th>2</th>\n",
       "      <td>4. **What happens after I report a payment dec...</td>\n",
       "      <td>A: After reporting a payment decline, the cust...</td>\n",
       "    </tr>\n",
       "    <tr>\n",
       "      <th>3</th>\n",
       "      <td>5. **How long does it take to resolve a credit...</td>\n",
       "      <td>A: The resolution time for a credit card payme...</td>\n",
       "    </tr>\n",
       "    <tr>\n",
       "      <th>4</th>\n",
       "      <td>6. **Can a payment be declined for reasons oth...</td>\n",
       "      <td>A: Yes, payments can be declined for several r...</td>\n",
       "    </tr>\n",
       "    <tr>\n",
       "      <th>5</th>\n",
       "      <td>7. **What if my payment issue persists after b...</td>\n",
       "      <td>A: If you continue to experience problems afte...</td>\n",
       "    </tr>\n",
       "    <tr>\n",
       "      <th>6</th>\n",
       "      <td>8. **How do I prevent credit card fraud?**</td>\n",
       "      <td>A: Preventing credit card fraud involves sever...</td>\n",
       "    </tr>\n",
       "    <tr>\n",
       "      <th>7</th>\n",
       "      <td>9. **My card was blocked for suspicious activi...</td>\n",
       "      <td>A: If your card is blocked due to suspicious a...</td>\n",
       "    </tr>\n",
       "    <tr>\n",
       "      <th>8</th>\n",
       "      <td>10. **What to do if I lose my credit card?**</td>\n",
       "      <td>A: Report the lost or stolen credit card to yo...</td>\n",
       "    </tr>\n",
       "    <tr>\n",
       "      <th>9</th>\n",
       "      <td>11. **How can I update my billing information ...</td>\n",
       "      <td>A: To update your billing information for subs...</td>\n",
       "    </tr>\n",
       "    <tr>\n",
       "      <th>10</th>\n",
       "      <td>12. **What are the implications of a late cred...</td>\n",
       "      <td>A: Making a late credit card payment can have ...</td>\n",
       "    </tr>\n",
       "    <tr>\n",
       "      <th>11</th>\n",
       "      <td>13. **How do I dispute an unauthorized charge ...</td>\n",
       "      <td>A: If you notice an unauthorized charge on you...</td>\n",
       "    </tr>\n",
       "    <tr>\n",
       "      <th>12</th>\n",
       "      <td>14. **Can I set up automatic payments for my c...</td>\n",
       "      <td>A: Yes, setting up automatic payments can help...</td>\n",
       "    </tr>\n",
       "    <tr>\n",
       "      <th>13</th>\n",
       "      <td>15. **How do I increase my credit card limit?**</td>\n",
       "      <td>A: To request a credit card limit increase, yo...</td>\n",
       "    </tr>\n",
       "    <tr>\n",
       "      <th>14</th>\n",
       "      <td>16. **What to do if my credit card is declined...</td>\n",
       "      <td>A: Credit cards can be declined abroad for sev...</td>\n",
       "    </tr>\n",
       "    <tr>\n",
       "      <th>15</th>\n",
       "      <td>17. **How can I secure my credit card while sh...</td>\n",
       "      <td>A: To secure your credit card online, use stro...</td>\n",
       "    </tr>\n",
       "    <tr>\n",
       "      <th>16</th>\n",
       "      <td>18. **Why was my card temporarily blocked?**</td>\n",
       "      <td>A: Cards can be temporarily blocked as a secur...</td>\n",
       "    </tr>\n",
       "  </tbody>\n",
       "</table>\n",
       "</div>"
      ],
      "text/plain": [
       "                                             Question  \\\n",
       "0   2. **My credit card payment was declined due t...   \n",
       "1   3. **How can I resolve a credit card payment d...   \n",
       "2   4. **What happens after I report a payment dec...   \n",
       "3   5. **How long does it take to resolve a credit...   \n",
       "4   6. **Can a payment be declined for reasons oth...   \n",
       "5   7. **What if my payment issue persists after b...   \n",
       "6          8. **How do I prevent credit card fraud?**   \n",
       "7   9. **My card was blocked for suspicious activi...   \n",
       "8        10. **What to do if I lose my credit card?**   \n",
       "9   11. **How can I update my billing information ...   \n",
       "10  12. **What are the implications of a late cred...   \n",
       "11  13. **How do I dispute an unauthorized charge ...   \n",
       "12  14. **Can I set up automatic payments for my c...   \n",
       "13    15. **How do I increase my credit card limit?**   \n",
       "14  16. **What to do if my credit card is declined...   \n",
       "15  17. **How can I secure my credit card while sh...   \n",
       "16       18. **Why was my card temporarily blocked?**   \n",
       "\n",
       "                                               Answer  \n",
       "0   A: First, verify your account balance through ...  \n",
       "1   A: Resolving a credit card decline involves id...  \n",
       "2   A: After reporting a payment decline, the cust...  \n",
       "3   A: The resolution time for a credit card payme...  \n",
       "4   A: Yes, payments can be declined for several r...  \n",
       "5   A: If you continue to experience problems afte...  \n",
       "6   A: Preventing credit card fraud involves sever...  \n",
       "7   A: If your card is blocked due to suspicious a...  \n",
       "8   A: Report the lost or stolen credit card to yo...  \n",
       "9   A: To update your billing information for subs...  \n",
       "10  A: Making a late credit card payment can have ...  \n",
       "11  A: If you notice an unauthorized charge on you...  \n",
       "12  A: Yes, setting up automatic payments can help...  \n",
       "13  A: To request a credit card limit increase, yo...  \n",
       "14  A: Credit cards can be declined abroad for sev...  \n",
       "15  A: To secure your credit card online, use stro...  \n",
       "16  A: Cards can be temporarily blocked as a secur...  "
      ]
     },
     "metadata": {},
     "output_type": "display_data"
    }
   ],
   "source": [
    "display(df)"
   ]
  },
  {
   "cell_type": "code",
   "execution_count": 6,
   "metadata": {
    "tags": []
   },
   "outputs": [
    {
     "name": "stdout",
     "output_type": "stream",
     "text": [
      "Number of questions: 17\n",
      "Number of unique answers: 17\n",
      "Missing values: Question    0\n",
      "Answer      0\n",
      "dtype: int64\n"
     ]
    }
   ],
   "source": [
    "# Basic Statistics\n",
    "num_questions = len(df)\n",
    "num_answers = df[\"Answer\"].nunique()  # Count unique answers\n",
    "missing_values = df.isnull().sum()\n",
    "\n",
    "print(\"Number of questions:\", num_questions)\n",
    "print(\"Number of unique answers:\", num_answers)\n",
    "print(\"Missing values:\", missing_values)"
   ]
  },
  {
   "cell_type": "code",
   "execution_count": 7,
   "metadata": {
    "tags": []
   },
   "outputs": [
    {
     "name": "stdout",
     "output_type": "stream",
     "text": [
      "\n",
      "Question Length Stats:\n",
      " count    17.000000\n",
      "mean     11.294118\n",
      "std       2.778595\n",
      "min       7.000000\n",
      "25%      10.000000\n",
      "50%      11.000000\n",
      "75%      12.000000\n",
      "max      20.000000\n",
      "Name: Question_Length, dtype: float64\n",
      "\n",
      "Answer Length Stats:\n",
      " count    17.000000\n",
      "mean     71.647059\n",
      "std       8.022945\n",
      "min      55.000000\n",
      "25%      68.000000\n",
      "50%      72.000000\n",
      "75%      77.000000\n",
      "max      87.000000\n",
      "Name: Answer_Length, dtype: float64\n"
     ]
    }
   ],
   "source": [
    "# Length of Questions and Answers\n",
    "df[\"Question_Length\"] = df[\"Question\"].apply(lambda x: len(x.split()))\n",
    "df[\"Answer_Length\"] = df[\"Answer\"].apply(lambda x: len(x.split()))\n",
    "\n",
    "question_stats = df[\"Question_Length\"].describe()\n",
    "answer_stats = df[\"Answer_Length\"].describe()\n",
    "\n",
    "print(\"\\nQuestion Length Stats:\\n\", question_stats)\n",
    "print(\"\\nAnswer Length Stats:\\n\", answer_stats)"
   ]
  },
  {
   "cell_type": "code",
   "execution_count": 8,
   "metadata": {
    "tags": []
   },
   "outputs": [
    {
     "data": {
      "image/png": "[encoded data removed]",
      "text/plain": [
       "<Figure size 1000x500 with 1 Axes>"
      ]
     },
     "metadata": {},
     "output_type": "display_data"
    }
   ],
   "source": [
    "# Visualize Length Distribution\n",
    "plt.figure(figsize=(10, 5))\n",
    "plt.hist(df[\"Question_Length\"], bins=20, alpha=0.7, color=\"blue\", label=\"Questions\")\n",
    "plt.hist(df[\"Answer_Length\"], bins=20, alpha=0.7, color=\"green\", label=\"Answers\")\n",
    "plt.title(\"Length Distribution of Questions and Answers\")\n",
    "plt.xlabel(\"Length\")\n",
    "plt.ylabel(\"Frequency\")\n",
    "plt.legend()\n",
    "plt.show()"
   ]
  },
  {
   "cell_type": "code",
   "execution_count": 22,
   "metadata": {
    "tags": []
   },
   "outputs": [
    {
     "name": "stderr",
     "output_type": "stream",
     "text": [
      "[nltk_data] Downloading package stopwords to\n",
      "[nltk_data]     /home/jupyter/nltk_data...\n",
      "[nltk_data]   Package stopwords is already up-to-date!\n",
      "[nltk_data] Downloading package punkt to /home/jupyter/nltk_data...\n",
      "[nltk_data]   Package punkt is already up-to-date!\n",
      "[nltk_data] Downloading package wordnet to /home/jupyter/nltk_data...\n"
     ]
    },
    {
     "name": "stdout",
     "output_type": "stream",
     "text": [
      "\n",
      "Top 10 frequent words in questions:\n",
      " card            13\n",
      "credit          11\n",
      "payment          8\n",
      "declined         3\n",
      "issue            2\n",
      "blocked          2\n",
      "insufficient     2\n",
      "fund             2\n",
      "resolve          2\n",
      "decline          2\n",
      "Name: count, dtype: int64\n",
      "\n",
      "Top 10 frequent words in answers:\n",
      " card           36\n",
      "credit         28\n",
      "bank           17\n",
      "payment        14\n",
      "transaction    14\n",
      "account        13\n",
      "issue          12\n",
      "contact        11\n",
      "service        11\n",
      "may             9\n",
      "Name: count, dtype: int64\n"
     ]
    }
   ],
   "source": [
    "import nltk\n",
    "from nltk.corpus import stopwords\n",
    "from nltk.tokenize import word_tokenize\n",
    "from nltk.stem import WordNetLemmatizer\n",
    "import pandas as pd\n",
    "\n",
    "nltk.download(\"stopwords\")\n",
    "nltk.download(\"punkt\")\n",
    "nltk.download(\"wordnet\")\n",
    "\n",
    "# Word Frequency Analysis\n",
    "stop_words = set(stopwords.words(\"english\"))\n",
    "lemmatizer = WordNetLemmatizer()\n",
    "\n",
    "def preprocess_text(text):\n",
    "    tokens = word_tokenize(text.lower())\n",
    "    filtered_tokens = [lemmatizer.lemmatize(token) for token in tokens if token.isalnum() and token not in stop_words]\n",
    "    return filtered_tokens\n",
    "\n",
    "# Apply preprocessing to questions and answers\n",
    "df[\"Question_Preprocessed\"] = df[\"Question\"].apply(preprocess_text)\n",
    "df[\"Answer_Preprocessed\"] = df[\"Answer\"].apply(preprocess_text)\n",
    "\n",
    "# Flatten preprocessed tokens for word frequency analysis\n",
    "question_tokens = [token for sublist in df[\"Question_Preprocessed\"] for token in sublist]\n",
    "answer_tokens = [token for sublist in df[\"Answer_Preprocessed\"] for token in sublist]\n",
    "\n",
    "# Calculate word frequency\n",
    "question_freq = pd.Series(question_tokens).value_counts().head(10)\n",
    "answer_freq = pd.Series(answer_tokens).value_counts().head(10)\n",
    "\n",
    "print(\"\\nTop 10 frequent words in questions:\\n\", question_freq)\n",
    "print(\"\\nTop 10 frequent words in answers:\\n\", answer_freq)"
   ]
  },
  {
   "cell_type": "code",
   "execution_count": 10,
   "metadata": {},
   "outputs": [
    {
     "name": "stdout",
     "output_type": "stream",
     "text": [
      "Requirement already satisfied: plotly in /opt/conda/lib/python3.10/site-packages (5.22.0)\n",
      "Requirement already satisfied: tenacity>=6.2.0 in /opt/conda/lib/python3.10/site-packages (from plotly) (8.2.3)\n",
      "Requirement already satisfied: packaging in /opt/conda/lib/python3.10/site-packages (from plotly) (24.0)\n"
     ]
    }
   ],
   "source": [
    "!pip install plotly"
   ]
  },
  {
   "cell_type": "code",
   "execution_count": 11,
   "metadata": {},
   "outputs": [],
   "source": [
    "!pip install nbformat>=4.2.0"
   ]
  },
  {
   "cell_type": "code",
   "execution_count": 23,
   "metadata": {
    "tags": []
   },
   "outputs": [
    {
     "data": {
      "text/html": [
       "<div>\n",
       "<style scoped>\n",
       "    .dataframe tbody tr th:only-of-type {\n",
       "        vertical-align: middle;\n",
       "    }\n",
       "\n",
       "    .dataframe tbody tr th {\n",
       "        vertical-align: top;\n",
       "    }\n",
       "\n",
       "    .dataframe thead th {\n",
       "        text-align: right;\n",
       "    }\n",
       "</style>\n",
       "<table border=\"1\" class=\"dataframe\">\n",
       "  <thead>\n",
       "    <tr style=\"text-align: right;\">\n",
       "      <th></th>\n",
       "      <th>count</th>\n",
       "    </tr>\n",
       "  </thead>\n",
       "  <tbody>\n",
       "    <tr>\n",
       "      <th>card</th>\n",
       "      <td>13</td>\n",
       "    </tr>\n",
       "    <tr>\n",
       "      <th>credit</th>\n",
       "      <td>11</td>\n",
       "    </tr>\n",
       "    <tr>\n",
       "      <th>payment</th>\n",
       "      <td>8</td>\n",
       "    </tr>\n",
       "    <tr>\n",
       "      <th>declined</th>\n",
       "      <td>3</td>\n",
       "    </tr>\n",
       "    <tr>\n",
       "      <th>issue</th>\n",
       "      <td>2</td>\n",
       "    </tr>\n",
       "    <tr>\n",
       "      <th>blocked</th>\n",
       "      <td>2</td>\n",
       "    </tr>\n",
       "    <tr>\n",
       "      <th>insufficient</th>\n",
       "      <td>2</td>\n",
       "    </tr>\n",
       "    <tr>\n",
       "      <th>fund</th>\n",
       "      <td>2</td>\n",
       "    </tr>\n",
       "    <tr>\n",
       "      <th>resolve</th>\n",
       "      <td>2</td>\n",
       "    </tr>\n",
       "    <tr>\n",
       "      <th>decline</th>\n",
       "      <td>2</td>\n",
       "    </tr>\n",
       "  </tbody>\n",
       "</table>\n",
       "</div>"
      ],
      "text/plain": [
       "              count\n",
       "card             13\n",
       "credit           11\n",
       "payment           8\n",
       "declined          3\n",
       "issue             2\n",
       "blocked           2\n",
       "insufficient      2\n",
       "fund              2\n",
       "resolve           2\n",
       "decline           2"
      ]
     },
     "execution_count": 23,
     "metadata": {},
     "output_type": "execute_result"
    }
   ],
   "source": [
    "df_q = pd.DataFrame(question_freq)\n",
    "df_q"
   ]
  },
  {
   "cell_type": "code",
   "execution_count": 24,
   "metadata": {
    "tags": []
   },
   "outputs": [],
   "source": [
    "df_q.reset_index(inplace=True)"
   ]
  },
  {
   "cell_type": "code",
   "execution_count": 25,
   "metadata": {
    "tags": []
   },
   "outputs": [
    {
     "data": {
      "text/html": [
       "<div>\n",
       "<style scoped>\n",
       "    .dataframe tbody tr th:only-of-type {\n",
       "        vertical-align: middle;\n",
       "    }\n",
       "\n",
       "    .dataframe tbody tr th {\n",
       "        vertical-align: top;\n",
       "    }\n",
       "\n",
       "    .dataframe thead th {\n",
       "        text-align: right;\n",
       "    }\n",
       "</style>\n",
       "<table border=\"1\" class=\"dataframe\">\n",
       "  <thead>\n",
       "    <tr style=\"text-align: right;\">\n",
       "      <th></th>\n",
       "      <th>index</th>\n",
       "      <th>count</th>\n",
       "    </tr>\n",
       "  </thead>\n",
       "  <tbody>\n",
       "    <tr>\n",
       "      <th>0</th>\n",
       "      <td>card</td>\n",
       "      <td>13</td>\n",
       "    </tr>\n",
       "    <tr>\n",
       "      <th>1</th>\n",
       "      <td>credit</td>\n",
       "      <td>11</td>\n",
       "    </tr>\n",
       "    <tr>\n",
       "      <th>2</th>\n",
       "      <td>payment</td>\n",
       "      <td>8</td>\n",
       "    </tr>\n",
       "    <tr>\n",
       "      <th>3</th>\n",
       "      <td>declined</td>\n",
       "      <td>3</td>\n",
       "    </tr>\n",
       "    <tr>\n",
       "      <th>4</th>\n",
       "      <td>issue</td>\n",
       "      <td>2</td>\n",
       "    </tr>\n",
       "    <tr>\n",
       "      <th>5</th>\n",
       "      <td>blocked</td>\n",
       "      <td>2</td>\n",
       "    </tr>\n",
       "    <tr>\n",
       "      <th>6</th>\n",
       "      <td>insufficient</td>\n",
       "      <td>2</td>\n",
       "    </tr>\n",
       "    <tr>\n",
       "      <th>7</th>\n",
       "      <td>fund</td>\n",
       "      <td>2</td>\n",
       "    </tr>\n",
       "    <tr>\n",
       "      <th>8</th>\n",
       "      <td>resolve</td>\n",
       "      <td>2</td>\n",
       "    </tr>\n",
       "    <tr>\n",
       "      <th>9</th>\n",
       "      <td>decline</td>\n",
       "      <td>2</td>\n",
       "    </tr>\n",
       "  </tbody>\n",
       "</table>\n",
       "</div>"
      ],
      "text/plain": [
       "          index  count\n",
       "0          card     13\n",
       "1        credit     11\n",
       "2       payment      8\n",
       "3      declined      3\n",
       "4         issue      2\n",
       "5       blocked      2\n",
       "6  insufficient      2\n",
       "7          fund      2\n",
       "8       resolve      2\n",
       "9       decline      2"
      ]
     },
     "execution_count": 25,
     "metadata": {},
     "output_type": "execute_result"
    }
   ],
   "source": [
    "df_q"
   ]
  },
  {
   "cell_type": "code",
   "execution_count": 26,
   "metadata": {
    "tags": []
   },
   "outputs": [
    {
     "data": {
      "text/html": [
       "<div>\n",
       "<style scoped>\n",
       "    .dataframe tbody tr th:only-of-type {\n",
       "        vertical-align: middle;\n",
       "    }\n",
       "\n",
       "    .dataframe tbody tr th {\n",
       "        vertical-align: top;\n",
       "    }\n",
       "\n",
       "    .dataframe thead th {\n",
       "        text-align: right;\n",
       "    }\n",
       "</style>\n",
       "<table border=\"1\" class=\"dataframe\">\n",
       "  <thead>\n",
       "    <tr style=\"text-align: right;\">\n",
       "      <th></th>\n",
       "      <th>index</th>\n",
       "      <th>count</th>\n",
       "    </tr>\n",
       "  </thead>\n",
       "  <tbody>\n",
       "    <tr>\n",
       "      <th>0</th>\n",
       "      <td>card</td>\n",
       "      <td>36</td>\n",
       "    </tr>\n",
       "    <tr>\n",
       "      <th>1</th>\n",
       "      <td>credit</td>\n",
       "      <td>28</td>\n",
       "    </tr>\n",
       "    <tr>\n",
       "      <th>2</th>\n",
       "      <td>bank</td>\n",
       "      <td>17</td>\n",
       "    </tr>\n",
       "    <tr>\n",
       "      <th>3</th>\n",
       "      <td>payment</td>\n",
       "      <td>14</td>\n",
       "    </tr>\n",
       "    <tr>\n",
       "      <th>4</th>\n",
       "      <td>transaction</td>\n",
       "      <td>14</td>\n",
       "    </tr>\n",
       "    <tr>\n",
       "      <th>5</th>\n",
       "      <td>account</td>\n",
       "      <td>13</td>\n",
       "    </tr>\n",
       "    <tr>\n",
       "      <th>6</th>\n",
       "      <td>issue</td>\n",
       "      <td>12</td>\n",
       "    </tr>\n",
       "    <tr>\n",
       "      <th>7</th>\n",
       "      <td>contact</td>\n",
       "      <td>11</td>\n",
       "    </tr>\n",
       "    <tr>\n",
       "      <th>8</th>\n",
       "      <td>service</td>\n",
       "      <td>11</td>\n",
       "    </tr>\n",
       "    <tr>\n",
       "      <th>9</th>\n",
       "      <td>may</td>\n",
       "      <td>9</td>\n",
       "    </tr>\n",
       "  </tbody>\n",
       "</table>\n",
       "</div>"
      ],
      "text/plain": [
       "         index  count\n",
       "0         card     36\n",
       "1       credit     28\n",
       "2         bank     17\n",
       "3      payment     14\n",
       "4  transaction     14\n",
       "5      account     13\n",
       "6        issue     12\n",
       "7      contact     11\n",
       "8      service     11\n",
       "9          may      9"
      ]
     },
     "execution_count": 26,
     "metadata": {},
     "output_type": "execute_result"
    }
   ],
   "source": [
    "df_a = pd.DataFrame(answer_freq)\n",
    "df_a.reset_index(inplace=True)\n",
    "df_a"
   ]
  },
  {
   "cell_type": "code",
   "execution_count": 27,
   "metadata": {
    "tags": []
   },
   "outputs": [
    {
     "data": {
      "text/plain": [
       "<Axes: xlabel='index', ylabel='count'>"
      ]
     },
     "execution_count": 27,
     "metadata": {},
     "output_type": "execute_result"
    },
    {
     "data": {
      "image/png": "[encoded data removed]",
      "text/plain": [
       "<Figure size 1500x800 with 1 Axes>"
      ]
     },
     "metadata": {},
     "output_type": "display_data"
    }
   ],
   "source": [
    "import pandas as pd\n",
    "import plotly.graph_objs as go\n",
    "import seaborn as sns\n",
    "plt.figure(figsize=(15,8))\n",
    "sns.barplot(data=df_q, x=\"index\", y = \"count\")"
   ]
  },
  {
   "cell_type": "code",
   "execution_count": 28,
   "metadata": {
    "tags": []
   },
   "outputs": [
    {
     "data": {
      "text/plain": [
       "<Axes: xlabel='index', ylabel='count'>"
      ]
     },
     "execution_count": 28,
     "metadata": {},
     "output_type": "execute_result"
    },
    {
     "data": {
      "image/png": "[encoded data removed]",
      "text/plain": [
       "<Figure size 1500x800 with 1 Axes>"
      ]
     },
     "metadata": {},
     "output_type": "display_data"
    }
   ],
   "source": [
    "plt.figure(figsize=(15,8))\n",
    "sns.barplot(data=df_a, x=\"index\", y = \"count\")"
   ]
  },
  {
   "cell_type": "code",
   "execution_count": 29,
   "metadata": {
    "tags": []
   },
   "outputs": [
    {
     "name": "stdout",
     "output_type": "stream",
     "text": [
      "\n",
      "Top words for each topic:\n",
      "Topic 1: verify, was, including, should, unusual, then, using, cards, again, directly\n",
      "Topic 2: the, your, card, credit, to, can, and, or, for, payment\n",
      "Topic 3: verify, was, including, should, unusual, then, using, cards, again, directly\n",
      "Topic 4: the, to, or, your, service, you, customer, issue, payment, for\n",
      "Topic 5: your, card, to, credit, and, if, bank, for, is, activity\n"
     ]
    },
    {
     "data": {
      "image/png": "[encoded data removed]",
      "text/plain": [
       "<Figure size 800x500 with 1 Axes>"
      ]
     },
     "metadata": {},
     "output_type": "display_data"
    }
   ],
   "source": [
    "# Similarity Analysis (using Cosine Similarity)\n",
    "vectorizer = CountVectorizer()\n",
    "X = vectorizer.fit_transform(df[\"Question\"] + \" \" + df[\"Answer\"])\n",
    "cosine_sim = cosine_similarity(X, X)\n",
    "\n",
    "# Topic Modeling (using Latent Dirichlet Allocation)\n",
    "lda = LatentDirichletAllocation(n_components=5, random_state=42)\n",
    "lda.fit(X)\n",
    "feature_names = vectorizer.get_feature_names_out()\n",
    "topics = []\n",
    "for topic_idx, topic in enumerate(lda.components_):\n",
    "    topics.append([feature_names[i] for i in topic.argsort()[:-10 - 1:-1]])\n",
    "\n",
    "print(\"\\nTop words for each topic:\")\n",
    "for i, topic in enumerate(topics):\n",
    "    print(f\"Topic {i+1}: {', '.join(topic)}\")\n",
    "\n",
    "# Sentiment Analysis\n",
    "df[\"Answer_Sentiment\"] = df[\"Answer\"].apply(lambda x: TextBlob(x).sentiment.polarity)\n",
    "\n",
    "# Visualize Sentiment Distribution\n",
    "plt.figure(figsize=(8, 5))\n",
    "plt.hist(df[\"Answer_Sentiment\"], bins=20, alpha=0.7, color=\"orange\")\n",
    "plt.title(\"Sentiment Distribution of Answers\")\n",
    "plt.xlabel(\"Sentiment Polarity\")\n",
    "plt.ylabel(\"Frequency\")\n",
    "plt.show()"
   ]
  },
  {
   "cell_type": "code",
   "execution_count": 30,
   "metadata": {
    "tags": []
   },
   "outputs": [
    {
     "data": {
      "text/html": [
       "<div>\n",
       "<style scoped>\n",
       "    .dataframe tbody tr th:only-of-type {\n",
       "        vertical-align: middle;\n",
       "    }\n",
       "\n",
       "    .dataframe tbody tr th {\n",
       "        vertical-align: top;\n",
       "    }\n",
       "\n",
       "    .dataframe thead th {\n",
       "        text-align: right;\n",
       "    }\n",
       "</style>\n",
       "<table border=\"1\" class=\"dataframe\">\n",
       "  <thead>\n",
       "    <tr style=\"text-align: right;\">\n",
       "      <th></th>\n",
       "      <th>index</th>\n",
       "      <th>count_df1</th>\n",
       "      <th>count_df2</th>\n",
       "    </tr>\n",
       "  </thead>\n",
       "  <tbody>\n",
       "    <tr>\n",
       "      <th>0</th>\n",
       "      <td>account</td>\n",
       "      <td>0.0</td>\n",
       "      <td>13.0</td>\n",
       "    </tr>\n",
       "    <tr>\n",
       "      <th>1</th>\n",
       "      <td>bank</td>\n",
       "      <td>0.0</td>\n",
       "      <td>17.0</td>\n",
       "    </tr>\n",
       "    <tr>\n",
       "      <th>2</th>\n",
       "      <td>blocked</td>\n",
       "      <td>2.0</td>\n",
       "      <td>0.0</td>\n",
       "    </tr>\n",
       "    <tr>\n",
       "      <th>3</th>\n",
       "      <td>card</td>\n",
       "      <td>13.0</td>\n",
       "      <td>36.0</td>\n",
       "    </tr>\n",
       "    <tr>\n",
       "      <th>4</th>\n",
       "      <td>contact</td>\n",
       "      <td>0.0</td>\n",
       "      <td>11.0</td>\n",
       "    </tr>\n",
       "    <tr>\n",
       "      <th>5</th>\n",
       "      <td>credit</td>\n",
       "      <td>11.0</td>\n",
       "      <td>28.0</td>\n",
       "    </tr>\n",
       "    <tr>\n",
       "      <th>6</th>\n",
       "      <td>decline</td>\n",
       "      <td>2.0</td>\n",
       "      <td>0.0</td>\n",
       "    </tr>\n",
       "    <tr>\n",
       "      <th>7</th>\n",
       "      <td>declined</td>\n",
       "      <td>3.0</td>\n",
       "      <td>0.0</td>\n",
       "    </tr>\n",
       "    <tr>\n",
       "      <th>8</th>\n",
       "      <td>fund</td>\n",
       "      <td>2.0</td>\n",
       "      <td>0.0</td>\n",
       "    </tr>\n",
       "    <tr>\n",
       "      <th>9</th>\n",
       "      <td>insufficient</td>\n",
       "      <td>2.0</td>\n",
       "      <td>0.0</td>\n",
       "    </tr>\n",
       "    <tr>\n",
       "      <th>10</th>\n",
       "      <td>issue</td>\n",
       "      <td>2.0</td>\n",
       "      <td>12.0</td>\n",
       "    </tr>\n",
       "    <tr>\n",
       "      <th>11</th>\n",
       "      <td>may</td>\n",
       "      <td>0.0</td>\n",
       "      <td>9.0</td>\n",
       "    </tr>\n",
       "    <tr>\n",
       "      <th>12</th>\n",
       "      <td>payment</td>\n",
       "      <td>8.0</td>\n",
       "      <td>14.0</td>\n",
       "    </tr>\n",
       "    <tr>\n",
       "      <th>13</th>\n",
       "      <td>resolve</td>\n",
       "      <td>2.0</td>\n",
       "      <td>0.0</td>\n",
       "    </tr>\n",
       "    <tr>\n",
       "      <th>14</th>\n",
       "      <td>service</td>\n",
       "      <td>0.0</td>\n",
       "      <td>11.0</td>\n",
       "    </tr>\n",
       "    <tr>\n",
       "      <th>15</th>\n",
       "      <td>transaction</td>\n",
       "      <td>0.0</td>\n",
       "      <td>14.0</td>\n",
       "    </tr>\n",
       "  </tbody>\n",
       "</table>\n",
       "</div>"
      ],
      "text/plain": [
       "           index  count_df1  count_df2\n",
       "0        account        0.0       13.0\n",
       "1           bank        0.0       17.0\n",
       "2        blocked        2.0        0.0\n",
       "3           card       13.0       36.0\n",
       "4        contact        0.0       11.0\n",
       "5         credit       11.0       28.0\n",
       "6        decline        2.0        0.0\n",
       "7       declined        3.0        0.0\n",
       "8           fund        2.0        0.0\n",
       "9   insufficient        2.0        0.0\n",
       "10         issue        2.0       12.0\n",
       "11           may        0.0        9.0\n",
       "12       payment        8.0       14.0\n",
       "13       resolve        2.0        0.0\n",
       "14       service        0.0       11.0\n",
       "15   transaction        0.0       14.0"
      ]
     },
     "metadata": {},
     "output_type": "display_data"
    }
   ],
   "source": [
    "import pandas as pd\n",
    "from matplotlib import pyplot as plt\n",
    "from matplotlib_venn import venn2\n",
    "\n",
    "# Merge the dataframes on the 'Word' column\n",
    "merged_df = pd.merge(df_q, df_a, on='index', suffixes=('_df1', '_df2'), how='outer').fillna(0)\n",
    "display(merged_df)"
   ]
  },
  {
   "cell_type": "code",
   "execution_count": 31,
   "metadata": {
    "tags": []
   },
   "outputs": [
    {
     "data": {
      "image/png": "[encoded data removed]",
      "text/plain": [
       "<Figure size 640x480 with 1 Axes>"
      ]
     },
     "metadata": {},
     "output_type": "display_data"
    }
   ],
   "source": [
    "# Create sets of words for each dataframe\n",
    "set_df1 = set(merged_df['index'][merged_df['count_df1'] > 0])\n",
    "set_df2 = set(merged_df['index'][merged_df['count_df2'] > 0])\n",
    "\n",
    "# Plot the Venn diagram\n",
    "venn2([set_df1, set_df2], ('Question', 'Answer'))\n",
    "plt.title('Word Frequency Comparison')\n",
    "plt.show()"
   ]
  },
  {
   "cell_type": "code",
   "execution_count": 32,
   "metadata": {},
   "outputs": [
    {
     "name": "stdout",
     "output_type": "stream",
     "text": [
      "[{'fund', 'resolve', 'blocked', 'declined', 'decline', 'issue', 'card', 'credit', 'payment', 'insufficient'}, {'bank', 'transaction', 'account', 'may', 'service', 'contact', 'issue', 'card', 'credit', 'payment'}]\n"
     ]
    }
   ],
   "source": [
    "print([set_df1, set_df2])"
   ]
  },
  {
   "cell_type": "code",
   "execution_count": null,
   "metadata": {},
   "outputs": [],
   "source": []
  }
 ],
 "metadata": {
  "environment": {
   "kernel": "conda-base-py",
   "name": "workbench-notebooks.m120",
   "type": "gcloud",
   "uri": "us-docker.pkg.dev/deeplearning-platform-release/gcr.io/workbench-notebooks:m120"
  },
  "kernelspec": {
   "display_name": "Python 3 (ipykernel) (Local)",
   "language": "python",
   "name": "conda-base-py"
  },
  "language_info": {
   "codemirror_mode": {
    "name": "ipython",
    "version": 3
   },
   "file_extension": ".py",
   "mimetype": "text/x-python",
   "name": "python",
   "nbconvert_exporter": "python",
   "pygments_lexer": "ipython3",
   "version": "3.10.14"
  }
 },
 "nbformat": 4,
 "nbformat_minor": 4
}
